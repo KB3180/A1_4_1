{
 "cells": [
  {
   "cell_type": "code",
   "execution_count": 11,
   "metadata": {},
   "outputs": [
    {
     "ename": "ModuleNotFoundError",
     "evalue": "No module named 'realityArtist'",
     "output_type": "error",
     "traceback": [
      "\u001b[1;31m---------------------------------------------------------------------------\u001b[0m",
      "\u001b[1;31mModuleNotFoundError\u001b[0m                       Traceback (most recent call last)",
      "\u001b[1;32m<ipython-input-11-1124a49c1b40>\u001b[0m in \u001b[0;36m<module>\u001b[1;34m\u001b[0m\n\u001b[1;32m----> 1\u001b[1;33m \u001b[1;32mimport\u001b[0m \u001b[0mrealityArtist\u001b[0m \u001b[1;32mas\u001b[0m \u001b[0mfiat\u001b[0m\u001b[1;33m\u001b[0m\u001b[1;33m\u001b[0m\u001b[0m\n\u001b[0m\u001b[0;32m      2\u001b[0m \u001b[0mmike\u001b[0m \u001b[1;33m=\u001b[0m \u001b[0mfiat\u001b[0m\u001b[1;33m.\u001b[0m\u001b[0mPingPongBall\u001b[0m\u001b[1;33m(\u001b[0m\u001b[1;33m)\u001b[0m\u001b[1;33m\u001b[0m\u001b[1;33m\u001b[0m\u001b[0m\n\u001b[0;32m      3\u001b[0m \u001b[0mprint\u001b[0m \u001b[1;33m(\u001b[0m\u001b[0mmike\u001b[0m\u001b[1;33m.\u001b[0m\u001b[0mcolor\u001b[0m\u001b[1;33m)\u001b[0m\u001b[1;33m\u001b[0m\u001b[1;33m\u001b[0m\u001b[0m\n\u001b[0;32m      4\u001b[0m \u001b[0mmike\u001b[0m\u001b[1;33m.\u001b[0m\u001b[0mdraw_circle\u001b[0m\u001b[1;33m(\u001b[0m\u001b[1;33m)\u001b[0m\u001b[1;33m\u001b[0m\u001b[1;33m\u001b[0m\u001b[0m\n",
      "\u001b[1;31mModuleNotFoundError\u001b[0m: No module named 'realityArtist'"
     ]
    }
   ],
   "source": [
    "import realityArtist as fiat \n",
    "mike = fiat.PingPongBall() \n",
    "print (mike.color) \n",
    "mike.draw_circle() "
   ]
  },
  {
   "cell_type": "code",
   "execution_count": 2,
   "metadata": {},
   "outputs": [
    {
     "ename": "SyntaxError",
     "evalue": "Missing parentheses in call to 'print'. Did you mean print(mike.color)? (<ipython-input-2-fa7fb6e6ca63>, line 2)",
     "output_type": "error",
     "traceback": [
      "\u001b[1;36m  File \u001b[1;32m\"<ipython-input-2-fa7fb6e6ca63>\"\u001b[1;36m, line \u001b[1;32m2\u001b[0m\n\u001b[1;33m    print mike.color\u001b[0m\n\u001b[1;37m             ^\u001b[0m\n\u001b[1;31mSyntaxError\u001b[0m\u001b[1;31m:\u001b[0m Missing parentheses in call to 'print'. Did you mean print(mike.color)?\n"
     ]
    }
   ],
   "source": [
    "class PingPongBall(object): \n",
    "mike = flat.PingPongBall () \n",
    "print mike.color \n",
    "mike.draw_circle() \n",
    "import realityArtist as fiat "
   ]
  },
  {
   "cell_type": "code",
   "execution_count": 1,
   "metadata": {},
   "outputs": [
    {
     "ename": "NameError",
     "evalue": "name 'Mike' is not defined",
     "output_type": "error",
     "traceback": [
      "\u001b[1;31m---------------------------------------------------------------------------\u001b[0m",
      "\u001b[1;31mNameError\u001b[0m                                 Traceback (most recent call last)",
      "\u001b[1;32m<ipython-input-1-c9cd3f75faaa>\u001b[0m in \u001b[0;36m<module>\u001b[1;34m\u001b[0m\n\u001b[1;32m----> 1\u001b[1;33m \u001b[0mitems\u001b[0m \u001b[1;33m=\u001b[0m \u001b[1;33m[\u001b[0m\u001b[0mMike\u001b[0m\u001b[1;33m,\u001b[0m \u001b[0mEmily\u001b[0m\u001b[1;33m]\u001b[0m\u001b[1;33m\u001b[0m\u001b[1;33m\u001b[0m\u001b[0m\n\u001b[0m",
      "\u001b[1;31mNameError\u001b[0m: name 'Mike' is not defined"
     ]
    }
   ],
   "source": [
    "items = [Mike, Emily] "
   ]
  },
  {
   "cell_type": "code",
   "execution_count": 1,
   "metadata": {
    "scrolled": true
   },
   "outputs": [
    {
     "ename": "SyntaxError",
     "evalue": "illegal target for annotation (<ipython-input-1-29aa3e1fd1a2>, line 2)",
     "output_type": "error",
     "traceback": [
      "\u001b[1;36m  File \u001b[1;32m\"<ipython-input-1-29aa3e1fd1a2>\"\u001b[1;36m, line \u001b[1;32m2\u001b[0m\n\u001b[1;33m    ... : items.append(PingPongBall())\u001b[0m\n\u001b[1;37m    ^\u001b[0m\n\u001b[1;31mSyntaxError\u001b[0m\u001b[1;31m:\u001b[0m illegal target for annotation\n"
     ]
    }
   ],
   "source": [
    "for i in range(6): \n",
    "    ... : items.append(PingPongBall()) \n",
    "        \n",
    "items[3]. draw_circle(myColor='#OOFFOO', diameter=6) \n",
    "\n",
    "for pingpong in items: \n",
    "    ... : pingpong.draw_circle(diameter=6, fill=True) \n",
    "These are for pingpong in items: \n",
    "    ... : pingpong.append(PingPongBall()) "
   ]
  },
  {
   "cell_type": "code",
   "execution_count": 9,
   "metadata": {},
   "outputs": [
    {
     "ename": "IndentationError",
     "evalue": "expected an indented block (<ipython-input-9-9932aaee78b7>, line 4)",
     "output_type": "error",
     "traceback": [
      "\u001b[1;36m  File \u001b[1;32m\"<ipython-input-9-9932aaee78b7>\"\u001b[1;36m, line \u001b[1;32m4\u001b[0m\n\u001b[1;33m    def draw_circle(self, diameter=5, color='#OOFFOO'):\u001b[0m\n\u001b[1;37m      ^\u001b[0m\n\u001b[1;31mIndentationError\u001b[0m\u001b[1;31m:\u001b[0m expected an indented block\n"
     ]
    }
   ],
   "source": [
    "class GolfBall(object): \n",
    "        def _init_(self, myRadius=38, myColor='#FFFFFF'): \n",
    "    \n",
    "        def draw_circle(self, diameter=5, color='#OOFFOO'): \n",
    "    \n",
    "        for i in range(8): \n",
    "              items.append(GolfBall()) \n",
    "    \n",
    "        for ball in items: \n",
    "              ball.draw_circle() "
   ]
  },
  {
   "cell_type": "code",
   "execution_count": null,
   "metadata": {},
   "outputs": [],
   "source": [
    "# 1. Everyday we use Abstraction- We use Abstraction by using a Sink. We know how to use it but don't know all the details on how it works. \n",
    "\n",
    "# 2. Procedural Abstraction- Using Abstraction by using a procedure. Adding details \n",
    "    # Data Abstraction- Using Abstraction using Data. Numbers and Letters \n",
    "    \n",
    "# 3. Why we think GUI's, Object-Oriented Programming, and Abstraction are all connected- These are all connected because they have all been around for a long time. They all three have something in common. These all use Data!"
   ]
  }
 ],
 "metadata": {
  "kernelspec": {
   "display_name": "Python 3",
   "language": "python",
   "name": "python3"
  },
  "language_info": {
   "codemirror_mode": {
    "name": "ipython",
    "version": 3
   },
   "file_extension": ".py",
   "mimetype": "text/x-python",
   "name": "python",
   "nbconvert_exporter": "python",
   "pygments_lexer": "ipython3",
   "version": "3.7.4"
  }
 },
 "nbformat": 4,
 "nbformat_minor": 2
}
